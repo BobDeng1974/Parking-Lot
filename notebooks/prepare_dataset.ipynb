{
 "cells": [
  {
   "cell_type": "code",
   "execution_count": 1,
   "metadata": {},
   "outputs": [],
   "source": [
    "from fastai import *\n",
    "from fastai.basics import *"
   ]
  },
  {
   "cell_type": "code",
   "execution_count": 21,
   "metadata": {},
   "outputs": [
    {
     "data": {
      "text/plain": [
       "[PosixPath('PKLot'),\n",
       " PosixPath('prepare_dataset.ipynb'),\n",
       " PosixPath('data'),\n",
       " PosixPath('.ipynb_checkpoints'),\n",
       " PosixPath('darknet')]"
      ]
     },
     "execution_count": 21,
     "metadata": {},
     "output_type": "execute_result"
    }
   ],
   "source": [
    "path = Path('../Data')\n",
    "path.ls()"
   ]
  },
  {
   "cell_type": "code",
   "execution_count": 22,
   "metadata": {},
   "outputs": [],
   "source": [
    "img_names = ItemList.from_folder(path/'PKLot'/'PKLot', extensions='.jpg')\n",
    "label_names = ItemList.from_folder(path/'PKLot'/'PKLot', extensions='.xml')"
   ]
  },
  {
   "cell_type": "code",
   "execution_count": 23,
   "metadata": {},
   "outputs": [
    {
     "data": {
      "text/plain": [
       "PosixPath('PKLot/PKLot/UFPR05/Sunny/2013-04-10/2013-04-10_10_30_05.jpg')"
      ]
     },
     "execution_count": 23,
     "metadata": {},
     "output_type": "execute_result"
    }
   ],
   "source": [
    "img_names[0]"
   ]
  },
  {
   "cell_type": "code",
   "execution_count": 24,
   "metadata": {},
   "outputs": [
    {
     "data": {
      "text/plain": [
       "PosixPath('PKLot/PKLot/UFPR05/Sunny/2013-04-10/2013-04-10_07_30_01.xml')"
      ]
     },
     "execution_count": 24,
     "metadata": {},
     "output_type": "execute_result"
    }
   ],
   "source": [
    "label_names[0]"
   ]
  },
  {
   "cell_type": "code",
   "execution_count": 25,
   "metadata": {},
   "outputs": [],
   "source": [
    "# Get all image paths as a single python list\n",
    "imgs = []\n",
    "labels = []\n",
    "\n",
    "for img in img_names:\n",
    "    img = str(img)\n",
    "    imgs.append(img)\n",
    "\n",
    "for label in label_names:\n",
    "    label = str(label)\n",
    "    labels.append(label)\n",
    "    \n",
    "imgs.sort()\n",
    "labels.sort()\n",
    "# This deletion is different for different runs\n",
    "# del imgs[4135]\n",
    "\n",
    "# Check imgs and labels for correctness\n",
    "for index, (img, label) in enumerate(zip(imgs, labels)):\n",
    "    img_name = img.split('.')[0]\n",
    "    lbl_name = label.split('.')[0]\n",
    "#     if img_name != lbl_name:\n",
    "#         print(index)\n",
    "#         print(imgs[index])\n",
    "#         print(labels[index])\n",
    "#         break\n",
    "    if img_name != lbl_name:\n",
    "        print(f'img = {img_name} & label = {lbl_name}')"
   ]
  },
  {
   "cell_type": "code",
   "execution_count": 37,
   "metadata": {},
   "outputs": [],
   "source": [
    "# Move all the images to 'data' dir\n",
    "import shutil\n",
    "from lxml import etree\n",
    "from PIL import Image\n",
    "dest = path/'data'\n",
    "counter = 0\n",
    "\n",
    "for img, label in zip(imgs, labels):\n",
    "    # Handle the image\n",
    "    img_name = str(dest/f'{counter:08d}.jpg')\n",
    "    shutil.copy(img, img_name)\n",
    "    \n",
    "    # Handle the label\n",
    "    # For yolo we need to have a txt with same name as img with the labels\n",
    "    img = Image.open(img_name)\n",
    "    img_w, img_h = img.size\n",
    "    \n",
    "    lbl_name = str(dest/f'{counter:08d}.txt')\n",
    "    f = open(lbl_name, 'w')\n",
    "    label_xml = etree.parse(label)\n",
    "    root = label_xml.getroot()\n",
    "    \n",
    "    for child in root:\n",
    "        try:\n",
    "            label_id = child.attrib['occupied']\n",
    "        except:\n",
    "            continue\n",
    "        rect = child.find('rotatedRect')\n",
    "        center = rect.find('center')\n",
    "        size = rect.find('size')\n",
    "        # Skipping angle for now\n",
    "        \n",
    "        x = int(center.attrib['x']) / img_w\n",
    "        y = int(center.attrib['y']) / img_h\n",
    "        w = int(size.attrib['w'])   / img_w\n",
    "        h = int(size.attrib['h'])   / img_h\n",
    "        \n",
    "        label_str = f'{label_id} {x} {y} {w} {h}\\n'\n",
    "        f.write(label_str)\n",
    "        \n",
    "        counter += 1\n",
    "    f.close()"
   ]
  },
  {
   "cell_type": "code",
   "execution_count": 38,
   "metadata": {},
   "outputs": [],
   "source": [
    "# Create a text file containing all image names\n",
    "data = ItemList.from_folder(path/'data', extensions='.jpg')\n",
    "prefix = Path('/home/kushaj/Desktop/Github/Parking Lot')\n",
    "\n",
    "# Write to text file\n",
    "f = open(path/'darknet/parking_lot/train.txt', 'w')\n",
    "for img in data:\n",
    "    img = str(prefix/img) + '\\n'\n",
    "    f.write(img)\n",
    "f.close()"
   ]
  },
  {
   "cell_type": "code",
   "execution_count": null,
   "metadata": {},
   "outputs": [],
   "source": []
  }
 ],
 "metadata": {
  "kernelspec": {
   "display_name": "Python 3",
   "language": "python",
   "name": "python3"
  },
  "language_info": {
   "codemirror_mode": {
    "name": "ipython",
    "version": 3
   },
   "file_extension": ".py",
   "mimetype": "text/x-python",
   "name": "python",
   "nbconvert_exporter": "python",
   "pygments_lexer": "ipython3",
   "version": "3.7.3"
  }
 },
 "nbformat": 4,
 "nbformat_minor": 2
}
